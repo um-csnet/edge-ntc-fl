{
 "cells": [
  {
   "cell_type": "code",
   "execution_count": 1,
   "id": "f4fd6ac8",
   "metadata": {},
   "outputs": [],
   "source": [
    "#Author: Muhammad Azizi Bin Mohd Ariffin\n",
    "#Email: mazizi@fskm.uitm.edu.my\n",
    "#Description: Data pre-processing for deep learning traffic classification"
   ]
  },
  {
   "cell_type": "code",
   "execution_count": null,
   "id": "be867b78",
   "metadata": {},
   "outputs": [],
   "source": [
    "import pandas as pd\n",
    "from pathlib import Path"
   ]
  },
  {
   "cell_type": "code",
   "execution_count": 12,
   "id": "f7f1b776",
   "metadata": {},
   "outputs": [],
   "source": [
    "filePath = \"D:\\\\dataset\\\\ISCX-VPN2016\\\\extract\\\\\"\n",
    "outputPath = \"D:\\\\dataset\\\\ISCX-VPN2016\\\\combine\\\\combine_dataset.csv\""
   ]
  },
  {
   "cell_type": "code",
   "execution_count": 13,
   "id": "47383151",
   "metadata": {},
   "outputs": [
    {
     "name": "stdout",
     "output_type": "stream",
     "text": [
      "AIMchat1.pcapng.csv\n",
      "AIMchat2.pcapng.csv\n",
      "aim_chat_3a.pcap.csv\n",
      "aim_chat_3b.pcap.csv\n",
      "email1a.pcap.csv\n",
      "email1b.pcap.csv\n",
      "email2a.pcap.csv\n",
      "email2b.pcap.csv\n",
      "facebook_audio1a.pcap.csv\n",
      "facebook_audio1b.pcapng.csv\n",
      "facebook_audio2a.pcap.csv\n",
      "ICQchat1.pcap.csv\n",
      "ICQchat1.pcapng.csv\n",
      "ICQchat2.pcap.csv\n",
      "ICQchat2.pcapng.csv\n",
      "icq_chat_3a.pcap.csv\n",
      "icq_chat_3b.pcap.csv\n",
      "skype_audio1a.pcap.csv\n",
      "skype_audio1b.pcapng.csv\n",
      "skype_audio2a.pcap.csv\n",
      "skype_audio2b.pcapng.csv\n",
      "spotify1.pcap.csv\n",
      "spotify2.pcap.csv\n",
      "spotify3.pcap.csv\n",
      "      B0  B1  B2   B3   B4   B5  B6  B7   B8  B9  ...  B731  B732  B733  B734  \\\n",
      "0     69   0   0  114   95   25  64   0  128   6  ...     0     0     0     0   \n",
      "1     69   0   0   93   69  158  64   0  128   6  ...     0     0     0     0   \n",
      "2     69   0   0   40   33  155  64   0  100   6  ...     0     0     0     0   \n",
      "3     69   0   0   40  252  175  64   0  100   6  ...     0     0     0     0   \n",
      "4     69   0   0  114   95   27  64   0  128   6  ...     0     0     0     0   \n",
      "...   ..  ..  ..  ...  ...  ...  ..  ..  ...  ..  ...   ...   ...   ...   ...   \n",
      "3183  69   0   0   52  115   25  64   0   64   6  ...     0     0     0     0   \n",
      "3184  69   0   0   52  252  224   0   0   42   6  ...     0     0     0     0   \n",
      "3185  69   0   0   72  105   77  64   0   64  17  ...     0     0     0     0   \n",
      "3186  69   0   0   63   22  250  64   0   44   6  ...     0     0     0     0   \n",
      "3187  69   0   0   52   79  142  64   0   64   6  ...     0     0     0     0   \n",
      "\n",
      "      B735  B736  B737  B738  B739    label  \n",
      "0        0     0     0     0     0      aim  \n",
      "1        0     0     0     0     0      aim  \n",
      "2        0     0     0     0     0      aim  \n",
      "3        0     0     0     0     0      aim  \n",
      "4        0     0     0     0     0      aim  \n",
      "...    ...   ...   ...   ...   ...      ...  \n",
      "3183     0     0     0     0     0  spotify  \n",
      "3184     0     0     0     0     0  spotify  \n",
      "3185     0     0     0     0     0  spotify  \n",
      "3186     0     0     0     0     0  spotify  \n",
      "3187     0     0     0     0     0  spotify  \n",
      "\n",
      "[479340 rows x 741 columns]\n"
     ]
    }
   ],
   "source": [
    "count = 0\n",
    "entriesAll = Path(filePath)\n",
    "for entryAll in entriesAll.iterdir():\n",
    "    if entryAll.name != 'desktop.ini' :\n",
    "        fileName = entryAll.name\n",
    "        print(fileName)\n",
    "        if count == 0 :\n",
    "            df = pd.read_csv(filePath + fileName)\n",
    "            count += 1\n",
    "        else :\n",
    "            df2 = pd.read_csv(filePath + fileName)\n",
    "            df = pd.concat([df, df2])\n",
    "print(df)"
   ]
  },
  {
   "cell_type": "code",
   "execution_count": 14,
   "id": "ed23e5a9",
   "metadata": {},
   "outputs": [],
   "source": [
    "df.to_csv(outputPath, index=False)"
   ]
  }
 ],
 "metadata": {
  "kernelspec": {
   "display_name": "Python 3 (ipykernel)",
   "language": "python",
   "name": "python3"
  },
  "language_info": {
   "codemirror_mode": {
    "name": "ipython",
    "version": 3
   },
   "file_extension": ".py",
   "mimetype": "text/x-python",
   "name": "python",
   "nbconvert_exporter": "python",
   "pygments_lexer": "ipython3",
   "version": "3.9.13"
  }
 },
 "nbformat": 4,
 "nbformat_minor": 5
}
